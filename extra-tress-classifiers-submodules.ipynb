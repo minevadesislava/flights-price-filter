{
 "cells": [
  {
   "cell_type": "code",
   "execution_count": 12,
   "metadata": {},
   "outputs": [
    {
     "data": {
      "text/plain": [
       "(748232, 10)"
      ]
     },
     "execution_count": 12,
     "metadata": {},
     "output_type": "execute_result"
    }
   ],
   "source": [
    "import numpy as np\n",
    "import matplotlib.pyplot as plt\n",
    "import pandas as pd\n",
    "import seaborn as sns\n",
    "import mglearn\n",
    "from sklearn.preprocessing import LabelEncoder\n",
    "from sklearn.ensemble import ExtraTreesClassifier\n",
    "from sklearn.cross_validation import cross_val_score\n",
    "from sklearn.cross_validation import train_test_split\n",
    "\n",
    "%matplotlib inline"
   ]
  },
  {
   "cell_type": "code",
   "execution_count": null,
   "metadata": {},
   "outputs": [],
   "source": [
    "original = pd.read_csv('../cleaned_data_labelencoded.csv')\n",
    "data = original.copy()"
   ]
  },
  {
   "cell_type": "code",
   "execution_count": null,
   "metadata": {},
   "outputs": [],
   "source": [
    "target = 'Accurate'\n",
    "Y = data[target]\n",
    "features = data.columns.drop(['Accurate', target])\n",
    "X = data[features]\n",
    "x_train, x_test, y_train, y_test = train_test_split(X, Y, test_size=0.3, random_state=4330)"
   ]
  },
  {
   "cell_type": "code",
   "execution_count": 11,
   "metadata": {},
   "outputs": [],
   "source": [
    "del(X,Y)\n",
    "covtrain=np.c_[x_train,y_train]\n",
    "covtest=np.c_[x_test,y_test]\n",
    "np.savetxt('covtrain.csv', covtrain, delimiter=\",\")\n",
    "np.savetxt('covtest.csv', covtest, delimiter=\",\")"
   ]
  },
  {
   "cell_type": "code",
   "execution_count": null,
   "metadata": {
    "scrolled": true
   },
   "outputs": [],
   "source": [
    "#here we load sample 1\n",
    "df = pd.read_csv('cov1.csv')\n",
    "y=df[df.columns[10]]\n",
    "X=df[df.columns[0:10]]\n",
    "\n",
    "clf1=ExtraTreesClassifier(n_estimators=100, random_state=101,warm_start=True)\n",
    "clf1.fit(X,y)\n",
    "scores = cross_val_score(clf1, X, y, cv=3,scoring='accuracy', n_jobs=-1)\n",
    "print(np.mean(scores), np.std(scores))\n",
    "print(scores)\n",
    "print(len(clf1.estimators_))\n",
    "\n",
    "#sample 2\n",
    "df = pd.read_csv('cov2.csv')\n",
    "y=df[df.columns[10]]\n",
    "X=df[df.columns[0:10]]\n",
    "\n",
    "clf1.set_params(n_estimators=150, random_state=101,warm_start=True)\n",
    "clf1.fit(X,y)\n",
    "scores = cross_val_score(clf1, X, y, cv=3,scoring='accuracy', n_jobs=-1)\n",
    "print(np.mean(scores), np.std(scores))\n",
    "print(scores)\n",
    "print(len(clf1.estimators_))\n",
    "\n",
    "#sample 3\n",
    "df = pd.read_csv('cov3.csv')\n",
    "y=df[df.columns[10]]\n",
    "X=df[df.columns[0:10]]\n",
    "clf1.set_params(n_estimators=200, random_state=101,warm_start=True)\n",
    "clf1.fit(X,y)\n",
    "scores = cross_val_score(clf1, X, y, cv=3,scoring='accuracy', n_jobs=-1)\n",
    "print(np.mean(scores), np.std(scores))\n",
    "print(scores)\n",
    "print(len(clf1.estimators_))\n",
    "\n",
    "#sample 4\n",
    "df = pd.read_csv('cov4.csv')\n",
    "y=df[df.columns[10]]\n",
    "X=df[df.columns[0:10]]\n",
    "clf1.set_params(n_estimators=250, random_state=101,warm_start=True)\n",
    "clf1.fit(X,y)\n",
    "scores = cross_val_score(clf1, X, y, cv=3,scoring='accuracy', n_jobs=-1)\n",
    "print(np.mean(scores), np.std(scores))\n",
    "print(scores)\n",
    "print(len(clf1.estimators_))\n",
    "\n",
    "df = pd.read_csv('covtest.csv')\n",
    "y=df[df.columns[10]]\n",
    "X=df[df.columns[0:10]]\n",
    "pred2=clf1.predict(X)\n",
    "scores = cross_val_score(clf1, X, y, cv=3,scoring='accuracy', n_jobs=-1)\n",
    "print (np.mean(scores))"
   ]
  },
  {
   "cell_type": "code",
   "execution_count": null,
   "metadata": {},
   "outputs": [],
   "source": []
  }
 ],
 "metadata": {
  "kernelspec": {
   "display_name": "Python 3",
   "language": "python",
   "name": "python3"
  },
  "language_info": {
   "codemirror_mode": {
    "name": "ipython",
    "version": 3
   },
   "file_extension": ".py",
   "mimetype": "text/x-python",
   "name": "python",
   "nbconvert_exporter": "python",
   "pygments_lexer": "ipython3",
   "version": "3.6.2"
  }
 },
 "nbformat": 4,
 "nbformat_minor": 2
}
