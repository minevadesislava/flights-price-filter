{
 "cells": [
  {
   "cell_type": "code",
   "execution_count": 1,
   "metadata": {},
   "outputs": [],
   "source": [
    "import numpy as np\n",
    "import pandas as pd\n",
    "import seaborn as sns\n",
    "import mglearn\n",
    "from sklearn.preprocessing import LabelEncoder\n",
    "from sklearn.svm import SVC\n",
    "import matplotlib.pyplot as plt\n",
    "from sklearn import model_selection\n",
    "from sklearn.ensemble import ExtraTreesClassifier\n",
    "from sklearn.cross_validation import cross_val_score\n",
    "from sklearn.datasets import make_classification\n",
    "from sklearn.cross_validation import train_test_split\n",
    "from sklearn.grid_search import RandomizedSearchCV\n",
    "from sklearn.metrics import average_precision_score\n",
    "\n",
    "%matplotlib inline"
   ]
  },
  {
   "cell_type": "code",
   "execution_count": null,
   "metadata": {},
   "outputs": [],
   "source": [
    "original = pd.read_csv('cleaned_data_labelencoded.csv')\n",
    "data = original.copy()"
   ]
  },
  {
   "cell_type": "code",
   "execution_count": 3,
   "metadata": {},
   "outputs": [],
   "source": [
    "target = 'Accurate'\n",
    "Y = data[target]\n",
    "features = data.columns.drop(['Accurate', target])\n",
    "X = data[features]"
   ]
  },
  {
   "cell_type": "code",
   "execution_count": null,
   "metadata": {},
   "outputs": [],
   "source": [
    "x_train, x_test, y_train, y_test = train_test_split(X, Y, test_size=0.3, random_state=4330)"
   ]
  },
  {
   "cell_type": "code",
   "execution_count": 18,
   "metadata": {},
   "outputs": [
    {
     "name": "stdout",
     "output_type": "stream",
     "text": [
      "0.876196395472\n"
     ]
    }
   ],
   "source": [
    "ExtraTreesClassifier(bootstrap=False, class_weight=None, criterion='gini',\n",
    "           max_depth=None, max_features='auto', max_leaf_nodes=None,\n",
    "           min_impurity_decrease=0.0, min_impurity_split=None,\n",
    "           min_samples_leaf=1, min_samples_split=10,\n",
    "           min_weight_fraction_leaf=0.0, n_estimators=60, n_jobs=1,\n",
    "           oob_score=False, random_state=101, verbose=0, warm_start=False)\n",
    "\n",
    "clf.fit(x_train,y_train)\n",
    "scores = cross_val_score(clf, x_train, y_train, cv=3,scoring='accuracy', n_jobs=-1)\n",
    "print (np.mean(scores)+ np.std(scores))"
   ]
  },
  {
   "cell_type": "code",
   "execution_count": 8,
   "metadata": {},
   "outputs": [
    {
     "name": "stdout",
     "output_type": "stream",
     "text": [
      "ExtraTreesClassifier(bootstrap=False, class_weight=None, criterion='gini',\n",
      "           max_depth=None, max_features='auto', max_leaf_nodes=None,\n",
      "           min_impurity_decrease=0.0, min_impurity_split=None,\n",
      "           min_samples_leaf=1, min_samples_split=10,\n",
      "           min_weight_fraction_leaf=0.0, n_estimators=60, n_jobs=1,\n",
      "           oob_score=False, random_state=101, verbose=0, warm_start=False)\n"
     ]
    }
   ],
   "source": [
    "param_dist = {\"max_depth\": [1,3, 7,8,12,None],\n",
    "    \"min_samples_split\": [8,10,11,14,16,19],\n",
    "    \"min_samples_leaf\": [1,2,3,4,5,6,7],\n",
    "    \"bootstrap\": [True, False]}\n",
    "rsearch = RandomizedSearchCV(clf, param_distributions=param_dist,n_iter=25)  \n",
    "rsearch.fit(x_train,y_train)\n",
    "rsearch.grid_scores_\n",
    "bestclf=rsearch.best_estimator_\n",
    "print(bestclf)"
   ]
  },
  {
   "cell_type": "code",
   "execution_count": 19,
   "metadata": {},
   "outputs": [
    {
     "name": "stdout",
     "output_type": "stream",
     "text": [
      "Average precision-recall score: 0.89\n"
     ]
    }
   ],
   "source": [
    "preds = clf.predict(x_test)\n",
    "average_precision = average_precision_score(y_test, preds)\n",
    "print('Average precision-recall score: {0:0.2f}'.format(average_precision))"
   ]
  },
  {
   "cell_type": "code",
   "execution_count": null,
   "metadata": {},
   "outputs": [],
   "source": []
  }
 ],
 "metadata": {
  "kernelspec": {
   "display_name": "Python 3",
   "language": "python",
   "name": "python3"
  },
  "language_info": {
   "codemirror_mode": {
    "name": "ipython",
    "version": 3
   },
   "file_extension": ".py",
   "mimetype": "text/x-python",
   "name": "python",
   "nbconvert_exporter": "python",
   "pygments_lexer": "ipython3",
   "version": "3.6.2"
  }
 },
 "nbformat": 4,
 "nbformat_minor": 2
}
