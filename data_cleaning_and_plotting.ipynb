{
 "cells": [
  {
   "cell_type": "code",
   "execution_count": 1,
   "metadata": {},
   "outputs": [],
   "source": [
    "import numpy as np\n",
    "import matplotlib.pyplot as plt\n",
    "import pandas as pd\n",
    "import seaborn as sns\n",
    "import mglearn\n",
    "from sklearn.preprocessing import LabelEncoder\n",
    "from IPython.display import display\n",
    "\n",
    "%matplotlib inline"
   ]
  },
  {
   "cell_type": "code",
   "execution_count": 2,
   "metadata": {},
   "outputs": [
    {
     "data": {
      "text/html": [
       "<div>\n",
       "<style>\n",
       "    .dataframe thead tr:only-child th {\n",
       "        text-align: right;\n",
       "    }\n",
       "\n",
       "    .dataframe thead th {\n",
       "        text-align: left;\n",
       "    }\n",
       "\n",
       "    .dataframe tbody tr th {\n",
       "        vertical-align: top;\n",
       "    }\n",
       "</style>\n",
       "<table border=\"1\" class=\"dataframe\">\n",
       "  <thead>\n",
       "    <tr style=\"text-align: right;\">\n",
       "      <th></th>\n",
       "      <th>Search_Date</th>\n",
       "      <th>Skyscanner_Price_USD</th>\n",
       "      <th>Partner_Price_USD</th>\n",
       "      <th>Country</th>\n",
       "      <th>Partner</th>\n",
       "      <th>Airline</th>\n",
       "      <th>Origin</th>\n",
       "      <th>Destination</th>\n",
       "      <th>Departure_Date</th>\n",
       "      <th>Departure_Time</th>\n",
       "      <th>Original_Currency</th>\n",
       "      <th>Passengers_Adult</th>\n",
       "      <th>Passengers_Child</th>\n",
       "      <th>Passengers_Baby</th>\n",
       "    </tr>\n",
       "  </thead>\n",
       "  <tbody>\n",
       "    <tr>\n",
       "      <th>0</th>\n",
       "      <td>2017-08-05</td>\n",
       "      <td>457.5042</td>\n",
       "      <td>457.5042</td>\n",
       "      <td>UK</td>\n",
       "      <td>easy</td>\n",
       "      <td>EZ</td>\n",
       "      <td>STN</td>\n",
       "      <td>AGP</td>\n",
       "      <td>2017-08-17</td>\n",
       "      <td>06:05:00</td>\n",
       "      <td>NaN</td>\n",
       "      <td>2</td>\n",
       "      <td>0</td>\n",
       "      <td>0</td>\n",
       "    </tr>\n",
       "    <tr>\n",
       "      <th>1</th>\n",
       "      <td>2017-07-14</td>\n",
       "      <td>113.7294</td>\n",
       "      <td>113.7294</td>\n",
       "      <td>UK</td>\n",
       "      <td>opuk</td>\n",
       "      <td>WZ</td>\n",
       "      <td>NCE</td>\n",
       "      <td>BUD</td>\n",
       "      <td>2017-07-25</td>\n",
       "      <td>15:40:00</td>\n",
       "      <td>GBP</td>\n",
       "      <td>1</td>\n",
       "      <td>0</td>\n",
       "      <td>0</td>\n",
       "    </tr>\n",
       "    <tr>\n",
       "      <th>2</th>\n",
       "      <td>2017-08-06</td>\n",
       "      <td>1118.3272</td>\n",
       "      <td>1118.3272</td>\n",
       "      <td>UK</td>\n",
       "      <td>gtuk</td>\n",
       "      <td>QF</td>\n",
       "      <td>LHR</td>\n",
       "      <td>SYD</td>\n",
       "      <td>2017-09-01</td>\n",
       "      <td>21:35:00</td>\n",
       "      <td>NaN</td>\n",
       "      <td>1</td>\n",
       "      <td>0</td>\n",
       "      <td>0</td>\n",
       "    </tr>\n",
       "    <tr>\n",
       "      <th>3</th>\n",
       "      <td>2017-07-25</td>\n",
       "      <td>57.2864</td>\n",
       "      <td>57.2864</td>\n",
       "      <td>UK</td>\n",
       "      <td>ryan</td>\n",
       "      <td>FR</td>\n",
       "      <td>LPL</td>\n",
       "      <td>PMI</td>\n",
       "      <td>2017-10-15</td>\n",
       "      <td>20:10:00</td>\n",
       "      <td>NaN</td>\n",
       "      <td>1</td>\n",
       "      <td>0</td>\n",
       "      <td>0</td>\n",
       "    </tr>\n",
       "    <tr>\n",
       "      <th>4</th>\n",
       "      <td>2017-07-14</td>\n",
       "      <td>523.3028</td>\n",
       "      <td>523.2987</td>\n",
       "      <td>JP</td>\n",
       "      <td>gtjp</td>\n",
       "      <td>JL</td>\n",
       "      <td>HND</td>\n",
       "      <td>BKK</td>\n",
       "      <td>2017-10-12</td>\n",
       "      <td>21:05:00</td>\n",
       "      <td>JPY</td>\n",
       "      <td>1</td>\n",
       "      <td>0</td>\n",
       "      <td>0</td>\n",
       "    </tr>\n",
       "  </tbody>\n",
       "</table>\n",
       "</div>"
      ],
      "text/plain": [
       "  Search_Date  Skyscanner_Price_USD  Partner_Price_USD Country Partner  \\\n",
       "0  2017-08-05              457.5042           457.5042      UK    easy   \n",
       "1  2017-07-14              113.7294           113.7294      UK    opuk   \n",
       "2  2017-08-06             1118.3272          1118.3272      UK    gtuk   \n",
       "3  2017-07-25               57.2864            57.2864      UK    ryan   \n",
       "4  2017-07-14              523.3028           523.2987      JP    gtjp   \n",
       "\n",
       "  Airline Origin Destination Departure_Date Departure_Time Original_Currency  \\\n",
       "0      EZ    STN         AGP     2017-08-17       06:05:00               NaN   \n",
       "1      WZ    NCE         BUD     2017-07-25       15:40:00               GBP   \n",
       "2      QF    LHR         SYD     2017-09-01       21:35:00               NaN   \n",
       "3      FR    LPL         PMI     2017-10-15       20:10:00               NaN   \n",
       "4      JL    HND         BKK     2017-10-12       21:05:00               JPY   \n",
       "\n",
       "   Passengers_Adult  Passengers_Child  Passengers_Baby  \n",
       "0                 2                 0                0  \n",
       "1                 1                 0                0  \n",
       "2                 1                 0                0  \n",
       "3                 1                 0                0  \n",
       "4                 1                 0                0  "
      ]
     },
     "execution_count": 2,
     "metadata": {},
     "output_type": "execute_result"
    }
   ],
   "source": [
    "original = pd.read_csv('../new-datasets/flights.csv')\n",
    "original.head(5)"
   ]
  },
  {
   "cell_type": "code",
   "execution_count": 68,
   "metadata": {},
   "outputs": [
    {
     "data": {
      "text/html": [
       "<div>\n",
       "<style>\n",
       "    .dataframe thead tr:only-child th {\n",
       "        text-align: right;\n",
       "    }\n",
       "\n",
       "    .dataframe thead th {\n",
       "        text-align: left;\n",
       "    }\n",
       "\n",
       "    .dataframe tbody tr th {\n",
       "        vertical-align: top;\n",
       "    }\n",
       "</style>\n",
       "<table border=\"1\" class=\"dataframe\">\n",
       "  <thead>\n",
       "    <tr style=\"text-align: right;\">\n",
       "      <th></th>\n",
       "      <th>Skyscanner_Price_USD</th>\n",
       "      <th>Partner_Price_USD</th>\n",
       "      <th>Passengers_Adult</th>\n",
       "      <th>Passengers_Child</th>\n",
       "      <th>Passengers_Baby</th>\n",
       "    </tr>\n",
       "  </thead>\n",
       "  <tbody>\n",
       "    <tr>\n",
       "      <th>count</th>\n",
       "      <td>766300.000000</td>\n",
       "      <td>7.663000e+05</td>\n",
       "      <td>766300.000000</td>\n",
       "      <td>766300.000000</td>\n",
       "      <td>766300.00000</td>\n",
       "    </tr>\n",
       "    <tr>\n",
       "      <th>mean</th>\n",
       "      <td>710.013416</td>\n",
       "      <td>7.487420e+02</td>\n",
       "      <td>1.499919</td>\n",
       "      <td>0.118211</td>\n",
       "      <td>0.02730</td>\n",
       "    </tr>\n",
       "    <tr>\n",
       "      <th>std</th>\n",
       "      <td>1246.041465</td>\n",
       "      <td>9.109803e+03</td>\n",
       "      <td>0.859848</td>\n",
       "      <td>0.433801</td>\n",
       "      <td>0.16735</td>\n",
       "    </tr>\n",
       "    <tr>\n",
       "      <th>min</th>\n",
       "      <td>1.166400</td>\n",
       "      <td>0.000000e+00</td>\n",
       "      <td>1.000000</td>\n",
       "      <td>0.000000</td>\n",
       "      <td>0.00000</td>\n",
       "    </tr>\n",
       "    <tr>\n",
       "      <th>25%</th>\n",
       "      <td>206.215075</td>\n",
       "      <td>2.099603e+02</td>\n",
       "      <td>1.000000</td>\n",
       "      <td>0.000000</td>\n",
       "      <td>0.00000</td>\n",
       "    </tr>\n",
       "    <tr>\n",
       "      <th>50%</th>\n",
       "      <td>444.061050</td>\n",
       "      <td>4.531693e+02</td>\n",
       "      <td>1.000000</td>\n",
       "      <td>0.000000</td>\n",
       "      <td>0.00000</td>\n",
       "    </tr>\n",
       "    <tr>\n",
       "      <th>75%</th>\n",
       "      <td>858.432000</td>\n",
       "      <td>8.764575e+02</td>\n",
       "      <td>2.000000</td>\n",
       "      <td>0.000000</td>\n",
       "      <td>0.00000</td>\n",
       "    </tr>\n",
       "    <tr>\n",
       "      <th>max</th>\n",
       "      <td>306742.455300</td>\n",
       "      <td>6.712490e+06</td>\n",
       "      <td>12.000000</td>\n",
       "      <td>7.000000</td>\n",
       "      <td>4.00000</td>\n",
       "    </tr>\n",
       "  </tbody>\n",
       "</table>\n",
       "</div>"
      ],
      "text/plain": [
       "       Skyscanner_Price_USD  Partner_Price_USD  Passengers_Adult  \\\n",
       "count         766300.000000       7.663000e+05     766300.000000   \n",
       "mean             710.013416       7.487420e+02          1.499919   \n",
       "std             1246.041465       9.109803e+03          0.859848   \n",
       "min                1.166400       0.000000e+00          1.000000   \n",
       "25%              206.215075       2.099603e+02          1.000000   \n",
       "50%              444.061050       4.531693e+02          1.000000   \n",
       "75%              858.432000       8.764575e+02          2.000000   \n",
       "max           306742.455300       6.712490e+06         12.000000   \n",
       "\n",
       "       Passengers_Child  Passengers_Baby  \n",
       "count     766300.000000     766300.00000  \n",
       "mean           0.118211          0.02730  \n",
       "std            0.433801          0.16735  \n",
       "min            0.000000          0.00000  \n",
       "25%            0.000000          0.00000  \n",
       "50%            0.000000          0.00000  \n",
       "75%            0.000000          0.00000  \n",
       "max            7.000000          4.00000  "
      ]
     },
     "execution_count": 68,
     "metadata": {},
     "output_type": "execute_result"
    }
   ],
   "source": [
    "original.describe()"
   ]
  },
  {
   "cell_type": "code",
   "execution_count": 69,
   "metadata": {
    "scrolled": true
   },
   "outputs": [
    {
     "data": {
      "text/plain": [
       "Search_Date                  0\n",
       "Skyscanner_Price_USD         0\n",
       "Partner_Price_USD            0\n",
       "Partner                      0\n",
       "Origin                       0\n",
       "Destination                  0\n",
       "Departure_Date               0\n",
       "Departure_Time               0\n",
       "Passengers_Adult             0\n",
       "Passengers_Child             0\n",
       "Passengers_Baby              0\n",
       "Airline                      7\n",
       "Country                     17\n",
       "Original_Currency       241274\n",
       "dtype: int64"
      ]
     },
     "execution_count": 69,
     "metadata": {},
     "output_type": "execute_result"
    }
   ],
   "source": [
    "original.isnull().sum().sort_values()"
   ]
  },
  {
   "cell_type": "code",
   "execution_count": 3,
   "metadata": {},
   "outputs": [],
   "source": [
    "data = original.copy()\n",
    "data = data.dropna(subset=['Country']) \n",
    "data = data.dropna(subset=['Airline'])"
   ]
  },
  {
   "cell_type": "code",
   "execution_count": 4,
   "metadata": {},
   "outputs": [
    {
     "data": {
      "text/plain": [
       "array(['EZ', 'WZ', 'QF', 'FR', 'JL', '7', 'V1', 'PR', 'RJ', 'DD', 'IB',\n",
       "       'NL', 'SQ', 'GA', 'MR', 'TK', 'AF', 'KL', 'KQ', 'EK', 'FZ', 'PG',\n",
       "       'WS', '4V', 'BA', 'AZ', 'JQ', 'RO', 'AI', 'GR', 'LG', 'F9', 'AB',\n",
       "       'CX', 'AS', 'FD', 'SK', 'Y4', 'D7', 'V7', 'KK', 'ME', 'NK', 'WY',\n",
       "       'H9', 'LX', 'LA', 'B6', 'TG', 'KE', '0S', 'A3', 'LH', 'AY', '58',\n",
       "       '29', 'NZ', 'JJ', 'OK', '36', 'VS', 'LY', 'C2', 'JT', 'QR', 'TP',\n",
       "       'MK', '52', 'TR', 'HV', '3', 'BE', 'AC', '3N', 'TX', 'CM', 'AM',\n",
       "       'KU', 'JW', 'LS', 'ZB', '49', 'S7', 'ET', 'KP', 'L8', '59', 'OR',\n",
       "       'CI', 'DY', '72', '78', 'IT', 'IK', 'KM', 'CA', 'HA', 'TU', 'CZ',\n",
       "       '5N', 'U6', '60', 'NO', 'OZ', 'LO', 'JU', 'SU', 'OS', 'PS', 'MF',\n",
       "       '0E', 'XD', 'WD', 'DL', 'S~', '9R', '6J', '9W', 'EW', 'MU', 'AT',\n",
       "       'OA', 'I_', 'E1', '6', 'BR', 'XQ', 'NH', 'OU', 'UX', 'S4', 'SP',\n",
       "       'M9', 'BI', 'JP', 'QD', '51', 'FV', 'AK', 'G9', 'Y1', '6B', 'TT',\n",
       "       'MH', 'EI', 'SV', 'DE', 'AV', 'SC', 'FM', 'G2', 'HU', 'F1', 'G3',\n",
       "       'UA', 'PK', 'TS', 'NT', '3K', 'WP', 'AA', 'BT', 'GK', 'MS', 'WG',\n",
       "       'SN', 'UP', 'QS', '5J', 'TB', 'FI', 'J9', 'GF', 'EL', 'HM', 'UL',\n",
       "       '77', 'KA', 'DT', 'AW', 'UO', 'FF', 'N8', 'HY', 'HG', 'IW', '0W',\n",
       "       'ST', '4', 'YP', '30', '54', 'UT', 'O6', 'AR', 'VN', 'X9', 'FB',\n",
       "       'NW', '4A', 'A2', 'IX', 'BW', '8P', 'X3', 'HQ', 'AD', 'IZ', 'H2',\n",
       "       'CQ', 'J2', '5O', 'U~', 'IG', 'SY', '9U', 'LJ', 'FJ', 'VX', 'LI',\n",
       "       '8Q', 'WB', 'SR', '6U', 'SB', 'QY', 'EB', 'K6', 'RA', 'B2', 'NX',\n",
       "       'ZI', '0', 'YJ', 'SE', 'VC', '5X', 'RD', 'W2', '9M', 'NN', 'PD',\n",
       "       'QZ', 'R3', 'ZH', 'UG', 'VW', 'I~', '0H', 'YM', 'XK', 'NV', 'B7',\n",
       "       '17', '5Z', 'EQ', 'OM', '9Z', 'SW', 'AE', 'AH', '0Y', '4N', 'ID',\n",
       "       'G8', 'BP', 'E3', 'UI', 'YL', 'KC', 'PY', 'DA', 'XY', '4D', '5C',\n",
       "       'LL', 'BL', 'LC', 'NU', 'QV', 'W5', 'ZS', '0A', '42', 'H8', 'F_',\n",
       "       '7W', 'ED', '2I', 'IO', 'UU', 'WF', 'QP', '7M', 'T3', 'A9', 'KX',\n",
       "       '9S', 'BG', 'BU', 'BC', '9P', 'MC', 'UK', 'JD', 'WN', 'TF', 'T4',\n",
       "       '85', '~A', 'P9', 'HZ', '7G', 'W4', '3M', 'FW', 'A5', '5', 'IJ',\n",
       "       '5H', '8L', 'X1', 'MI', 'PZ', 'SS', 'PP', 'YZ', 'HO', 'RW', '6X',\n",
       "       'I8', 'MN', 'WX', 'EN', '97', 'Y2', 'L6', 'G4', 'D2', 'I2', '84',\n",
       "       'KN', 'VR', '9V', '@6', 'Y7', 'PU', 'PX', '4M', 'DG', 'XW', 'UC',\n",
       "       '0K', 'RX', 'BJ', '6R', '0D', '62', 'NF', 'MQ', 'MD', '3U', 'CU',\n",
       "       'HD', 'L9', 'YE', 'BB', '76', '1U', 'XL', 'TA', 'IN', '9K', '8A',\n",
       "       'YN', 'VZ', '6W', 'T5', '9A', 'P~', '67', '6H', 'RC', 'NY', 'OC',\n",
       "       'VT', 'D~', 'UJ', '7I', '~S', 'E~', '0X', 'KS', '65', 'ZL', '0L',\n",
       "       '4B', 'TN', 'Z6', '7J', '2P', '8B', 'TM', 'ZU', 'WM', '9N', 'GL',\n",
       "       'QH', 'UB', 'NE', 'FU', '13', 'UE', 'CN', 'DX', '2L', '3S', '5T',\n",
       "       'DW', 'PW', 'HR', '4J', '75', 'Y8', 'WK', '3Z', '7U', '3X', 'IR',\n",
       "       'LQ', 'JY', 'P0', 'H6', '28', 'UZ', 'E5', '8K', 'KT', 'GH', 'JE',\n",
       "       'Z4', 'C4', 'O1', 'LR', 'T7', 'P2', 'S3', 'XB', 'SA', '8W', '9T',\n",
       "       'QU', '3C', 'X0', 'RQ', '1L', 'RN', 'TL', '6O', '3D', 'ZK', 'P4',\n",
       "       'A7', 'VV', '~2', 'R7', '8U', 'CR', 'CG', 'RM', '5F', 'AN', 'NP',\n",
       "       '6C', 'LN', 'OY', 'PF', 'Z9', '3O', '~~', '7H', '2T', 'E_', '6Z',\n",
       "       '2Z', 'R0', '5S', '!9', '5P', '15', '@4', 'IA', 'CL', '8I', '20',\n",
       "       'YU', 'I6', 'IE', 'K0', '@8', 'XM', 'PM', 'MW', 'ZZ', 'UM', 'KH',\n",
       "       'RI', 'JH', 'H7', '0M', 'D3', 'C3', 'I5', '74', 'LZ', 'GP', 'KW',\n",
       "       'PJ', 'T~', 'YY', '9I', 'YW', 'TW', 'V0', 'P3', '2J', 'H5', 'B8',\n",
       "       '5I', 'XN', 'F.', 'PB', '7F', '0F', 'KJ', 'Q!', 'Q1', 'JI', 'JV',\n",
       "       'CF', '80', 'PC', 'DM', 'MO', 'RE', 'JA', 'NS', 'SH', 'R5', 'G5',\n",
       "       'C1', '6S', 'I9', '9F', 'Y5', 'LW', '5Q', 'CV', '4G', '1C', '0B',\n",
       "       '7X', 'SD', '2D'], dtype=object)"
      ]
     },
     "execution_count": 4,
     "metadata": {},
     "output_type": "execute_result"
    }
   ],
   "source": [
    "data.Airline.unique().size\n",
    "data.Airline.unique()"
   ]
  },
  {
   "cell_type": "code",
   "execution_count": 5,
   "metadata": {},
   "outputs": [],
   "source": [
    "regex = \"[A-Z0-9]{2}\"\n",
    "filter = data['Airline'].str.contains(regex)\n",
    "data = data[filter]"
   ]
  },
  {
   "cell_type": "code",
   "execution_count": 6,
   "metadata": {},
   "outputs": [
    {
     "data": {
      "text/plain": [
       "skyp    24038\n",
       "gtuk    20302\n",
       "gtbf    18903\n",
       "ryan    18474\n",
       "opuk    17485\n",
       "lmuk    16001\n",
       "tpuk    14692\n",
       "wizz    12215\n",
       "easy    11699\n",
       "opde    10835\n",
       "soth    10598\n",
       "omeg    10178\n",
       "xpuk     9815\n",
       "tsde     9758\n",
       "at24     9733\n",
       "s1uk     9146\n",
       "lmde     8850\n",
       "lmit     6893\n",
       "sunl     6536\n",
       "peta     6068\n",
       "vaya     5864\n",
       "lmfr     5660\n",
       "mdtr     5547\n",
       "skap     4878\n",
       "kfde     4827\n",
       "tu1p     4753\n",
       "bjet     4542\n",
       "lolt     4483\n",
       "etrp     4337\n",
       "eurw     4305\n",
       "        ...  \n",
       "finn        9\n",
       "peis        9\n",
       "aaru        9\n",
       "aabm        9\n",
       "otuk        9\n",
       "newz        8\n",
       "fnco        8\n",
       "flbg        7\n",
       "aahn        7\n",
       "pegi        7\n",
       "aerm        7\n",
       "sta_        7\n",
       "aust        7\n",
       "aaht        6\n",
       "aabs        6\n",
       "ausa        6\n",
       "aprj        6\n",
       "masa        4\n",
       "otua        4\n",
       "vaar        4\n",
       "flse        4\n",
       "vols        4\n",
       "arar        4\n",
       "vamx        4\n",
       "aajm        3\n",
       "aani        3\n",
       "pese        3\n",
       "aaaw        3\n",
       "eiai        3\n",
       "aabo        3\n",
       "Name: Partner, Length: 776, dtype: int64"
      ]
     },
     "execution_count": 6,
     "metadata": {},
     "output_type": "execute_result"
    }
   ],
   "source": [
    "threshold = 2\n",
    "vc = data.Partner.value_counts()\n",
    "to_remove = vc[vc <= threshold].index\n",
    "data['Partner'].replace(to_remove, np.nan, inplace=True)\n",
    "data.Partner.value_counts()"
   ]
  },
  {
   "cell_type": "code",
   "execution_count": 7,
   "metadata": {},
   "outputs": [
    {
     "data": {
      "text/plain": [
       "Search_Date                  0\n",
       "Skyscanner_Price_USD         0\n",
       "Partner_Price_USD            0\n",
       "Country                      0\n",
       "Airline                      0\n",
       "Origin                       0\n",
       "Destination                  0\n",
       "Departure_Date               0\n",
       "Departure_Time               0\n",
       "Passengers_Adult             0\n",
       "Passengers_Child             0\n",
       "Passengers_Baby              0\n",
       "Partner                     13\n",
       "Original_Currency       232763\n",
       "dtype: int64"
      ]
     },
     "execution_count": 7,
     "metadata": {},
     "output_type": "execute_result"
    }
   ],
   "source": [
    "data.isnull().sum().sort_values()"
   ]
  },
  {
   "cell_type": "code",
   "execution_count": 9,
   "metadata": {},
   "outputs": [
    {
     "data": {
      "text/plain": [
       "Search_Date                  0\n",
       "Skyscanner_Price_USD         0\n",
       "Partner_Price_USD            0\n",
       "Country                      0\n",
       "Partner                      0\n",
       "Airline                      0\n",
       "Origin                       0\n",
       "Destination                  0\n",
       "Departure_Date               0\n",
       "Departure_Time               0\n",
       "Passengers_Adult             0\n",
       "Passengers_Child             0\n",
       "Passengers_Baby              0\n",
       "Original_Currency       232753\n",
       "dtype: int64"
      ]
     },
     "execution_count": 9,
     "metadata": {},
     "output_type": "execute_result"
    }
   ],
   "source": [
    "data = data.dropna(subset=['Partner'])\n",
    "data.isnull().sum().sort_values()"
   ]
  },
  {
   "cell_type": "code",
   "execution_count": 8,
   "metadata": {},
   "outputs": [
    {
     "data": {
      "text/plain": [
       "array(['UK', 'JP', 'AU', 'US', 'KR', 'QA', 'ES', 'PK', 'DE', 'IE', 'IT',\n",
       "       'TR', 'NL', 'RO', 'SG', 'DK', 'FR', 'IN', 'HU', 'NZ', 'FI', 'TH',\n",
       "       'GR', 'SE', 'ID', 'RU', 'IL', 'AR', 'BE', 'KW', 'TW', 'AT', 'MY',\n",
       "       'CA', 'PL', 'PT', 'HK', 'CZ', 'HR', 'UA', 'SA', 'PA', 'CY', 'AE',\n",
       "       'SK', 'CH', 'BR', 'NO', 'CO', 'DZ', 'MX', 'CL', 'GF', 'PH', 'EE',\n",
       "       'GE', 'GT', 'BG', 'VN', 'LK', 'AS', 'LV', 'TT', 'ZA', 'LT', 'RS',\n",
       "       'SI', 'MK', 'PE', 'EG', 'OM', 'CR', 'EC', 'AL', 'BM', 'MO', 'AZ',\n",
       "       'MT', 'JO', 'SV', 'NG', 'VE', 'IR', 'LU', 'GH', 'BY', 'BH', 'AM',\n",
       "       'MA', 'DO', 'MD', 'MM', 'CU', 'GY', 'KZ', 'TN', 'TM', 'PY', 'KY',\n",
       "       'MZ', 'AW', 'TZ', 'UY', 'IQ', 'HN', 'MN', 'ME', 'GI', 'NP', 'SD',\n",
       "       'NI', 'CD', 'SN', 'IS', 'LB', 'VI', 'KH', 'BW', 'PR', 'CM', 'BA',\n",
       "       'NC', 'AF', 'BD', 'BF', 'KG', 'AO', 'CG', 'BS', 'ZW', 'AI', 'MU',\n",
       "       'MV', 'CI', 'CV', 'VC', 'HT', 'BO', 'VG', 'BN', 'VA', 'BT', 'GP',\n",
       "       'KN', 'AG', 'RE', 'LA', 'BB', 'DJ', 'BZ', 'TJ', 'MG', 'ST', 'SB',\n",
       "       'ML', 'TC', 'UZ', 'ET', 'FJ', 'JM', 'TG', 'SZ', 'KE', 'SY', 'GA',\n",
       "       'LY', 'ZM', 'UG', 'CK', 'SC', 'GU', 'MR', 'SL', 'KP', 'KM', 'PG',\n",
       "       'MC'], dtype=object)"
      ]
     },
     "execution_count": 8,
     "metadata": {},
     "output_type": "execute_result"
    }
   ],
   "source": [
    "data.Country.unique()"
   ]
  },
  {
   "cell_type": "code",
   "execution_count": 10,
   "metadata": {},
   "outputs": [
    {
     "data": {
      "text/plain": [
       "BKK    17556\n",
       "AMS    11697\n",
       "LHR    11432\n",
       "DPS    10013\n",
       "JFK     9833\n",
       "IST     9227\n",
       "CDG     8863\n",
       "BCN     8580\n",
       "PMI     8274\n",
       "MAD     8059\n",
       "FCO     7120\n",
       "ATH     7055\n",
       "NRT     6853\n",
       "LIS     6751\n",
       "ICN     6666\n",
       "SYD     6615\n",
       "HKG     6560\n",
       "LAX     6530\n",
       "SIN     6297\n",
       "LGW     6246\n",
       "DEL     6241\n",
       "DXB     5814\n",
       "MNL     5411\n",
       "DUB     5341\n",
       "TPE     5195\n",
       "PRG     5177\n",
       "KUL     5168\n",
       "MEL     4986\n",
       "BUD     4940\n",
       "TXL     4923\n",
       "       ...  \n",
       "TRW        1\n",
       "LNS        1\n",
       "PRC        1\n",
       "FLG        1\n",
       "DGA        1\n",
       "YNG        1\n",
       "HHH        1\n",
       "DEA        1\n",
       "GZO        1\n",
       "YTS        1\n",
       "HIB        1\n",
       "HLH        1\n",
       "LSH        1\n",
       "LIW        1\n",
       "PGV        1\n",
       "FUN        1\n",
       "NQU        1\n",
       "EGE        1\n",
       "SAB        1\n",
       "PIA        1\n",
       "OZG        1\n",
       "FUG        1\n",
       "KET        1\n",
       "PUU        1\n",
       "OIR        1\n",
       "GVR        1\n",
       "SWO        1\n",
       "BLV        1\n",
       "RCU        1\n",
       "BVH        1\n",
       "Name: Destination, Length: 2349, dtype: int64"
      ]
     },
     "execution_count": 10,
     "metadata": {},
     "output_type": "execute_result"
    }
   ],
   "source": [
    "data.Destination.value_counts()"
   ]
  },
  {
   "cell_type": "code",
   "execution_count": 11,
   "metadata": {},
   "outputs": [
    {
     "data": {
      "text/plain": [
       "BKK    17556\n",
       "AMS    11697\n",
       "LHR    11432\n",
       "DPS    10013\n",
       "JFK     9833\n",
       "IST     9227\n",
       "CDG     8863\n",
       "BCN     8580\n",
       "PMI     8274\n",
       "MAD     8059\n",
       "FCO     7120\n",
       "ATH     7055\n",
       "NRT     6853\n",
       "LIS     6751\n",
       "ICN     6666\n",
       "SYD     6615\n",
       "HKG     6560\n",
       "LAX     6530\n",
       "SIN     6297\n",
       "LGW     6246\n",
       "DEL     6241\n",
       "DXB     5814\n",
       "MNL     5411\n",
       "DUB     5341\n",
       "TPE     5195\n",
       "PRG     5177\n",
       "KUL     5168\n",
       "MEL     4986\n",
       "BUD     4940\n",
       "TXL     4923\n",
       "       ...  \n",
       "CNY        3\n",
       "STX        3\n",
       "PZO        3\n",
       "CTL        3\n",
       "RDO        3\n",
       "AUR        3\n",
       "KZS        3\n",
       "YZZ        3\n",
       "KAN        3\n",
       "CVM        3\n",
       "AJR        3\n",
       "MGM        3\n",
       "GOH        3\n",
       "UPN        3\n",
       "OLX        3\n",
       "PNZ        3\n",
       "YUS        3\n",
       "CLQ        3\n",
       "NDG        3\n",
       "ZAL        3\n",
       "UTN        3\n",
       "AGT        3\n",
       "KEP        3\n",
       "SRP        3\n",
       "AGS        3\n",
       "LAN        3\n",
       "NLK        3\n",
       "SNW        3\n",
       "BHB        3\n",
       "IXG        3\n",
       "Name: Destination, Length: 1917, dtype: int64"
      ]
     },
     "execution_count": 11,
     "metadata": {},
     "output_type": "execute_result"
    }
   ],
   "source": [
    "threshold = 2\n",
    "vc = data.Destination.value_counts()\n",
    "to_remove = vc[vc <= threshold].index\n",
    "data['Destination'].replace(to_remove, np.nan, inplace=True)\n",
    "data.Destination.value_counts()"
   ]
  },
  {
   "cell_type": "code",
   "execution_count": 12,
   "metadata": {},
   "outputs": [],
   "source": [
    "data = data.dropna(subset=['Airline'])\n",
    "data = data.dropna(subset=['Country'])\n",
    "data = data.dropna(subset=['Destination'])"
   ]
  },
  {
   "cell_type": "code",
   "execution_count": 13,
   "metadata": {},
   "outputs": [
    {
     "data": {
      "text/plain": [
       "array(['STN', 'NCE', 'LHR', ..., 'HKK', 'HDG', 'BYM'], dtype=object)"
      ]
     },
     "execution_count": 13,
     "metadata": {},
     "output_type": "execute_result"
    }
   ],
   "source": [
    "data.Origin.unique()"
   ]
  },
  {
   "cell_type": "code",
   "execution_count": 14,
   "metadata": {},
   "outputs": [
    {
     "data": {
      "text/html": [
       "<div>\n",
       "<style>\n",
       "    .dataframe thead tr:only-child th {\n",
       "        text-align: right;\n",
       "    }\n",
       "\n",
       "    .dataframe thead th {\n",
       "        text-align: left;\n",
       "    }\n",
       "\n",
       "    .dataframe tbody tr th {\n",
       "        vertical-align: top;\n",
       "    }\n",
       "</style>\n",
       "<table border=\"1\" class=\"dataframe\">\n",
       "  <thead>\n",
       "    <tr style=\"text-align: right;\">\n",
       "      <th></th>\n",
       "      <th>Search_Date</th>\n",
       "      <th>Skyscanner_Price_USD</th>\n",
       "      <th>Partner_Price_USD</th>\n",
       "      <th>Country</th>\n",
       "      <th>Partner</th>\n",
       "      <th>Airline</th>\n",
       "      <th>Origin</th>\n",
       "      <th>Destination</th>\n",
       "      <th>Departure_Date</th>\n",
       "      <th>Departure_Time</th>\n",
       "      <th>Passengers_Adult</th>\n",
       "      <th>Passengers_Child</th>\n",
       "      <th>Passengers_Baby</th>\n",
       "    </tr>\n",
       "  </thead>\n",
       "  <tbody>\n",
       "    <tr>\n",
       "      <th>0</th>\n",
       "      <td>2017-08-05</td>\n",
       "      <td>457.5042</td>\n",
       "      <td>457.5042</td>\n",
       "      <td>UK</td>\n",
       "      <td>easy</td>\n",
       "      <td>EZ</td>\n",
       "      <td>STN</td>\n",
       "      <td>AGP</td>\n",
       "      <td>2017-08-17</td>\n",
       "      <td>06:05:00</td>\n",
       "      <td>2</td>\n",
       "      <td>0</td>\n",
       "      <td>0</td>\n",
       "    </tr>\n",
       "    <tr>\n",
       "      <th>1</th>\n",
       "      <td>2017-07-14</td>\n",
       "      <td>113.7294</td>\n",
       "      <td>113.7294</td>\n",
       "      <td>UK</td>\n",
       "      <td>opuk</td>\n",
       "      <td>WZ</td>\n",
       "      <td>NCE</td>\n",
       "      <td>BUD</td>\n",
       "      <td>2017-07-25</td>\n",
       "      <td>15:40:00</td>\n",
       "      <td>1</td>\n",
       "      <td>0</td>\n",
       "      <td>0</td>\n",
       "    </tr>\n",
       "    <tr>\n",
       "      <th>2</th>\n",
       "      <td>2017-08-06</td>\n",
       "      <td>1118.3272</td>\n",
       "      <td>1118.3272</td>\n",
       "      <td>UK</td>\n",
       "      <td>gtuk</td>\n",
       "      <td>QF</td>\n",
       "      <td>LHR</td>\n",
       "      <td>SYD</td>\n",
       "      <td>2017-09-01</td>\n",
       "      <td>21:35:00</td>\n",
       "      <td>1</td>\n",
       "      <td>0</td>\n",
       "      <td>0</td>\n",
       "    </tr>\n",
       "    <tr>\n",
       "      <th>3</th>\n",
       "      <td>2017-07-25</td>\n",
       "      <td>57.2864</td>\n",
       "      <td>57.2864</td>\n",
       "      <td>UK</td>\n",
       "      <td>ryan</td>\n",
       "      <td>FR</td>\n",
       "      <td>LPL</td>\n",
       "      <td>PMI</td>\n",
       "      <td>2017-10-15</td>\n",
       "      <td>20:10:00</td>\n",
       "      <td>1</td>\n",
       "      <td>0</td>\n",
       "      <td>0</td>\n",
       "    </tr>\n",
       "    <tr>\n",
       "      <th>4</th>\n",
       "      <td>2017-07-14</td>\n",
       "      <td>523.3028</td>\n",
       "      <td>523.2987</td>\n",
       "      <td>JP</td>\n",
       "      <td>gtjp</td>\n",
       "      <td>JL</td>\n",
       "      <td>HND</td>\n",
       "      <td>BKK</td>\n",
       "      <td>2017-10-12</td>\n",
       "      <td>21:05:00</td>\n",
       "      <td>1</td>\n",
       "      <td>0</td>\n",
       "      <td>0</td>\n",
       "    </tr>\n",
       "  </tbody>\n",
       "</table>\n",
       "</div>"
      ],
      "text/plain": [
       "  Search_Date  Skyscanner_Price_USD  Partner_Price_USD Country Partner  \\\n",
       "0  2017-08-05              457.5042           457.5042      UK    easy   \n",
       "1  2017-07-14              113.7294           113.7294      UK    opuk   \n",
       "2  2017-08-06             1118.3272          1118.3272      UK    gtuk   \n",
       "3  2017-07-25               57.2864            57.2864      UK    ryan   \n",
       "4  2017-07-14              523.3028           523.2987      JP    gtjp   \n",
       "\n",
       "  Airline Origin Destination Departure_Date Departure_Time  Passengers_Adult  \\\n",
       "0      EZ    STN         AGP     2017-08-17       06:05:00                 2   \n",
       "1      WZ    NCE         BUD     2017-07-25       15:40:00                 1   \n",
       "2      QF    LHR         SYD     2017-09-01       21:35:00                 1   \n",
       "3      FR    LPL         PMI     2017-10-15       20:10:00                 1   \n",
       "4      JL    HND         BKK     2017-10-12       21:05:00                 1   \n",
       "\n",
       "   Passengers_Child  Passengers_Baby  \n",
       "0                 0                0  \n",
       "1                 0                0  \n",
       "2                 0                0  \n",
       "3                 0                0  \n",
       "4                 0                0  "
      ]
     },
     "execution_count": 14,
     "metadata": {},
     "output_type": "execute_result"
    }
   ],
   "source": [
    "del data['Original_Currency']\n",
    "data.head()"
   ]
  },
  {
   "cell_type": "code",
   "execution_count": 82,
   "metadata": {},
   "outputs": [],
   "source": [
    "# save data to file\n",
    "#data.to_csv(path_or_buf=\"cleaned_data.csv\", sep=',', na_rep='', float_format=None, columns=None, header=True, index=True, index_label=None, mode='w', encoding=None, compression=None, quoting=None, quotechar='\"', line_terminator='\\n', chunksize=None, tupleize_cols=None, date_format=None, doublequote=True, escapechar=None, decimal='.')"
   ]
  },
  {
   "cell_type": "code",
   "execution_count": 18,
   "metadata": {},
   "outputs": [],
   "source": [
    "# save encoded data to file\n",
    "#data['Search_Date'] = pd.to_datetime(data['Search_Date'])\n",
    "#data['Search_days_of_the_week'] = data['Search_Date'].dt.weekday_name\n",
    "#data['Departure_Date'] = pd.to_datetime(data['Departure_Date'])\n",
    "#data['Departure_days_of_the_week'] = data['Departure_Date'].dt.weekday_name   \n",
    "#data['Accurate']= np.where((data['Partner_Price_USD'] - data['Skyscanner_Price_USD']<= 4) & (data['Partner_Price_USD'] > 0) & (data['Partner_Price_USD'] < 3000),'yes','no')\n",
    "#data=data[['Country', 'Partner', 'Airline', 'Origin', 'Destination','Search_days_of_the_week', 'Departure_days_of_the_week', 'Passengers_Adult', 'Passengers_Child', 'Passengers_Baby','Accurate']]\n",
    "#label_encoder = LabelEncoder()\n",
    "#data = data.apply(label_encoder.fit_transform)\n",
    "#data.to_csv(path_or_buf=\"cleaned_data_labelencoded.csv\", sep=',', na_rep='', float_format=None, columns=None, header=True, index=True, index_label=None, mode='w', encoding=None, compression=None, quoting=None, quotechar='\"', line_terminator='\\n', chunksize=None, tupleize_cols=None, date_format=None, doublequote=True, escapechar=None, decimal='.')"
   ]
  },
  {
   "cell_type": "code",
   "execution_count": 15,
   "metadata": {},
   "outputs": [
    {
     "data": {
      "text/html": [
       "<div>\n",
       "<style>\n",
       "    .dataframe thead tr:only-child th {\n",
       "        text-align: right;\n",
       "    }\n",
       "\n",
       "    .dataframe thead th {\n",
       "        text-align: left;\n",
       "    }\n",
       "\n",
       "    .dataframe tbody tr th {\n",
       "        vertical-align: top;\n",
       "    }\n",
       "</style>\n",
       "<table border=\"1\" class=\"dataframe\">\n",
       "  <thead>\n",
       "    <tr style=\"text-align: right;\">\n",
       "      <th></th>\n",
       "      <th>Skyscanner_Price_USD</th>\n",
       "      <th>Partner_Price_USD</th>\n",
       "      <th>Passengers_Adult</th>\n",
       "      <th>Passengers_Child</th>\n",
       "      <th>Passengers_Baby</th>\n",
       "    </tr>\n",
       "  </thead>\n",
       "  <tbody>\n",
       "    <tr>\n",
       "      <th>count</th>\n",
       "      <td>84416.000000</td>\n",
       "      <td>8.441600e+04</td>\n",
       "      <td>84416.000000</td>\n",
       "      <td>84416.000000</td>\n",
       "      <td>84416.000000</td>\n",
       "    </tr>\n",
       "    <tr>\n",
       "      <th>mean</th>\n",
       "      <td>692.386248</td>\n",
       "      <td>9.503876e+02</td>\n",
       "      <td>1.593750</td>\n",
       "      <td>0.138801</td>\n",
       "      <td>0.025362</td>\n",
       "    </tr>\n",
       "    <tr>\n",
       "      <th>std</th>\n",
       "      <td>833.394020</td>\n",
       "      <td>1.329296e+04</td>\n",
       "      <td>0.947912</td>\n",
       "      <td>0.473533</td>\n",
       "      <td>0.161242</td>\n",
       "    </tr>\n",
       "    <tr>\n",
       "      <th>min</th>\n",
       "      <td>7.285700</td>\n",
       "      <td>1.523000e+01</td>\n",
       "      <td>1.000000</td>\n",
       "      <td>0.000000</td>\n",
       "      <td>0.000000</td>\n",
       "    </tr>\n",
       "    <tr>\n",
       "      <th>25%</th>\n",
       "      <td>229.083000</td>\n",
       "      <td>2.744316e+02</td>\n",
       "      <td>1.000000</td>\n",
       "      <td>0.000000</td>\n",
       "      <td>0.000000</td>\n",
       "    </tr>\n",
       "    <tr>\n",
       "      <th>50%</th>\n",
       "      <td>447.150550</td>\n",
       "      <td>5.362007e+02</td>\n",
       "      <td>1.000000</td>\n",
       "      <td>0.000000</td>\n",
       "      <td>0.000000</td>\n",
       "    </tr>\n",
       "    <tr>\n",
       "      <th>75%</th>\n",
       "      <td>862.635850</td>\n",
       "      <td>1.042374e+03</td>\n",
       "      <td>2.000000</td>\n",
       "      <td>0.000000</td>\n",
       "      <td>0.000000</td>\n",
       "    </tr>\n",
       "    <tr>\n",
       "      <th>max</th>\n",
       "      <td>47407.006100</td>\n",
       "      <td>3.268173e+06</td>\n",
       "      <td>12.000000</td>\n",
       "      <td>6.000000</td>\n",
       "      <td>2.000000</td>\n",
       "    </tr>\n",
       "  </tbody>\n",
       "</table>\n",
       "</div>"
      ],
      "text/plain": [
       "       Skyscanner_Price_USD  Partner_Price_USD  Passengers_Adult  \\\n",
       "count          84416.000000       8.441600e+04      84416.000000   \n",
       "mean             692.386248       9.503876e+02          1.593750   \n",
       "std              833.394020       1.329296e+04          0.947912   \n",
       "min                7.285700       1.523000e+01          1.000000   \n",
       "25%              229.083000       2.744316e+02          1.000000   \n",
       "50%              447.150550       5.362007e+02          1.000000   \n",
       "75%              862.635850       1.042374e+03          2.000000   \n",
       "max            47407.006100       3.268173e+06         12.000000   \n",
       "\n",
       "       Passengers_Child  Passengers_Baby  \n",
       "count      84416.000000     84416.000000  \n",
       "mean           0.138801         0.025362  \n",
       "std            0.473533         0.161242  \n",
       "min            0.000000         0.000000  \n",
       "25%            0.000000         0.000000  \n",
       "50%            0.000000         0.000000  \n",
       "75%            0.000000         0.000000  \n",
       "max            6.000000         2.000000  "
      ]
     },
     "execution_count": 15,
     "metadata": {},
     "output_type": "execute_result"
    }
   ],
   "source": [
    "#only inaccurate prices\n",
    "data = data[((data.Partner_Price_USD - data.Skyscanner_Price_USD ) > 4)]\n",
    "data.describe()"
   ]
  },
  {
   "cell_type": "code",
   "execution_count": 16,
   "metadata": {},
   "outputs": [
    {
     "data": {
      "text/plain": [
       "Search_Date              object\n",
       "Skyscanner_Price_USD    float64\n",
       "Country                  object\n",
       "Partner                  object\n",
       "Airline                  object\n",
       "Origin                   object\n",
       "Destination              object\n",
       "Departure_Date           object\n",
       "Departure_Time           object\n",
       "Passengers_Adult          int64\n",
       "Passengers_Child          int64\n",
       "Passengers_Baby           int64\n",
       "dtype: object"
      ]
     },
     "execution_count": 16,
     "metadata": {},
     "output_type": "execute_result"
    }
   ],
   "source": [
    "data = data[['Search_Date', 'Skyscanner_Price_USD', 'Country', 'Partner', 'Airline', 'Origin', 'Destination', 'Departure_Date', 'Departure_Time', 'Passengers_Adult', 'Passengers_Child', 'Passengers_Baby']]\n",
    "data.dtypes"
   ]
  },
  {
   "cell_type": "code",
   "execution_count": 37,
   "metadata": {},
   "outputs": [],
   "source": [
    "data['Search_Date'] = pd.to_datetime(data['Search_Date'])\n",
    "data['Search_days_of_the_week'] = data['Search_Date'].dt.weekday_name\n",
    "data['Departure_Date'] = pd.to_datetime(data['Departure_Date'])\n",
    "data['Departure_days_of_the_week'] = data['Departure_Date'].dt.weekday_name\n",
    "data = data[['Country', 'Partner', 'Airline', 'Origin', 'Destination', 'Passengers_Adult', 'Passengers_Child', 'Passengers_Baby', 'Search_days_of_the_week', 'Departure_days_of_the_week']]\n"
   ]
  },
  {
   "cell_type": "code",
   "execution_count": 66,
   "metadata": {},
   "outputs": [
    {
     "data": {
      "text/html": [
       "<div>\n",
       "<style>\n",
       "    .dataframe thead tr:only-child th {\n",
       "        text-align: right;\n",
       "    }\n",
       "\n",
       "    .dataframe thead th {\n",
       "        text-align: left;\n",
       "    }\n",
       "\n",
       "    .dataframe tbody tr th {\n",
       "        vertical-align: top;\n",
       "    }\n",
       "</style>\n",
       "<table border=\"1\" class=\"dataframe\">\n",
       "  <thead>\n",
       "    <tr style=\"text-align: right;\">\n",
       "      <th></th>\n",
       "      <th>Country</th>\n",
       "      <th>Partner</th>\n",
       "      <th>Airline</th>\n",
       "      <th>Origin</th>\n",
       "      <th>Destination</th>\n",
       "      <th>Passengers_Adult</th>\n",
       "      <th>Passengers_Child</th>\n",
       "      <th>Passengers_Baby</th>\n",
       "      <th>Search_days_of_the_week</th>\n",
       "      <th>Departure_days_of_the_week</th>\n",
       "    </tr>\n",
       "  </thead>\n",
       "  <tbody>\n",
       "    <tr>\n",
       "      <th>11</th>\n",
       "      <td>31</td>\n",
       "      <td>579</td>\n",
       "      <td>210</td>\n",
       "      <td>1002</td>\n",
       "      <td>101</td>\n",
       "      <td>1</td>\n",
       "      <td>0</td>\n",
       "      <td>0</td>\n",
       "      <td>6</td>\n",
       "      <td>1</td>\n",
       "    </tr>\n",
       "    <tr>\n",
       "      <th>14</th>\n",
       "      <td>24</td>\n",
       "      <td>357</td>\n",
       "      <td>191</td>\n",
       "      <td>291</td>\n",
       "      <td>339</td>\n",
       "      <td>0</td>\n",
       "      <td>0</td>\n",
       "      <td>0</td>\n",
       "      <td>6</td>\n",
       "      <td>2</td>\n",
       "    </tr>\n",
       "    <tr>\n",
       "      <th>15</th>\n",
       "      <td>24</td>\n",
       "      <td>357</td>\n",
       "      <td>272</td>\n",
       "      <td>291</td>\n",
       "      <td>339</td>\n",
       "      <td>0</td>\n",
       "      <td>0</td>\n",
       "      <td>0</td>\n",
       "      <td>6</td>\n",
       "      <td>2</td>\n",
       "    </tr>\n",
       "    <tr>\n",
       "      <th>16</th>\n",
       "      <td>24</td>\n",
       "      <td>357</td>\n",
       "      <td>362</td>\n",
       "      <td>291</td>\n",
       "      <td>339</td>\n",
       "      <td>0</td>\n",
       "      <td>0</td>\n",
       "      <td>0</td>\n",
       "      <td>6</td>\n",
       "      <td>2</td>\n",
       "    </tr>\n",
       "    <tr>\n",
       "      <th>20</th>\n",
       "      <td>42</td>\n",
       "      <td>148</td>\n",
       "      <td>166</td>\n",
       "      <td>288</td>\n",
       "      <td>625</td>\n",
       "      <td>0</td>\n",
       "      <td>0</td>\n",
       "      <td>0</td>\n",
       "      <td>5</td>\n",
       "      <td>1</td>\n",
       "    </tr>\n",
       "  </tbody>\n",
       "</table>\n",
       "</div>"
      ],
      "text/plain": [
       "    Country  Partner  Airline  Origin  Destination  Passengers_Adult  \\\n",
       "11       31      579      210    1002          101                 1   \n",
       "14       24      357      191     291          339                 0   \n",
       "15       24      357      272     291          339                 0   \n",
       "16       24      357      362     291          339                 0   \n",
       "20       42      148      166     288          625                 0   \n",
       "\n",
       "    Passengers_Child  Passengers_Baby  Search_days_of_the_week  \\\n",
       "11                 0                0                        6   \n",
       "14                 0                0                        6   \n",
       "15                 0                0                        6   \n",
       "16                 0                0                        6   \n",
       "20                 0                0                        5   \n",
       "\n",
       "    Departure_days_of_the_week  \n",
       "11                           1  \n",
       "14                           2  \n",
       "15                           2  \n",
       "16                           2  \n",
       "20                           1  "
      ]
     },
     "execution_count": 66,
     "metadata": {},
     "output_type": "execute_result"
    }
   ],
   "source": []
  },
  {
   "cell_type": "code",
   "execution_count": 21,
   "metadata": {},
   "outputs": [
    {
     "data": {
      "image/png": "[encoded data removed]",
      "text/plain": [
       "<matplotlib.figure.Figure at 0x7f38e34db668>"
      ]
     },
     "metadata": {},
     "output_type": "display_data"
    }
   ],
   "source": [
    "sns.distplot(data.Partner);"
   ]
  },
  {
   "cell_type": "code",
   "execution_count": 40,
   "metadata": {},
   "outputs": [
    {
     "data": {
      "image/png": "[encoded data removed]",
      "text/plain": [
       "<matplotlib.figure.Figure at 0x7f38e2ef50f0>"
      ]
     },
     "metadata": {},
     "output_type": "display_data"
    }
   ],
   "source": [
    "data.Partner.value_counts().plot(kind='bar');"
   ]
  },
  {
   "cell_type": "code",
   "execution_count": 41,
   "metadata": {},
   "outputs": [
    {
     "data": {
      "text/plain": [
       "array([[<matplotlib.axes._subplots.AxesSubplot object at 0x7f38e2e52128>]], dtype=object)"
      ]
     },
     "execution_count": 41,
     "metadata": {},
     "output_type": "execute_result"
    },
    {
     "data": {
      "image/png": "[encoded data removed]",
      "text/plain": [
       "<matplotlib.figure.Figure at 0x7f38e2f09908>"
      ]
     },
     "metadata": {},
     "output_type": "display_data"
    }
   ],
   "source": [
    "data.hist(column=\"Partner\", figsize=(10, 10), color=\"blue\")"
   ]
  },
  {
   "cell_type": "code",
   "execution_count": 43,
   "metadata": {},
   "outputs": [
    {
     "data": {
      "text/plain": [
       "array([[<matplotlib.axes._subplots.AxesSubplot object at 0x7f38e28cc128>]], dtype=object)"
      ]
     },
     "execution_count": 43,
     "metadata": {},
     "output_type": "execute_result"
    },
    {
     "data": {
      "image/png": "[encoded data removed]",
      "text/plain": [
       "<matplotlib.figure.Figure at 0x7f38e2c564a8>"
      ]
     },
     "metadata": {},
     "output_type": "display_data"
    }
   ],
   "source": [
    "#partners for which the price is very likely to be unaccurate\n",
    "data.hist(column=\"Partner\", figsize=(10,10), color=\"blue\", bins=50, range= (350,420))"
   ]
  },
  {
   "cell_type": "code",
   "execution_count": 85,
   "metadata": {},
   "outputs": [
    {
     "data": {
      "text/plain": [
       "array([[<matplotlib.axes._subplots.AxesSubplot object at 0x7f38e1e5fc50>]], dtype=object)"
      ]
     },
     "execution_count": 85,
     "metadata": {},
     "output_type": "execute_result"
    },
    {
     "data": {
      "image/png": "[encoded data removed]",
      "text/plain": [
       "<matplotlib.figure.Figure at 0x7f38e1e5f198>"
      ]
     },
     "metadata": {},
     "output_type": "display_data"
    }
   ],
   "source": [
    "data.hist(column=\"Airline\", figsize=(10, 10), color=\"blue\")"
   ]
  },
  {
   "cell_type": "code",
   "execution_count": 86,
   "metadata": {},
   "outputs": [
    {
     "data": {
      "text/plain": [
       "array([[<matplotlib.axes._subplots.AxesSubplot object at 0x7f38e2e92cc0>]], dtype=object)"
      ]
     },
     "execution_count": 86,
     "metadata": {},
     "output_type": "execute_result"
    },
    {
     "data": {
      "image/png": "[encoded data removed]",
      "text/plain": [
       "<matplotlib.figure.Figure at 0x7f38e1e60128>"
      ]
     },
     "metadata": {},
     "output_type": "display_data"
    }
   ],
   "source": [
    "#airlines for which the price is very likely to be unaccurate\n",
    "data.hist(column=\"Airline\", figsize=(10,10), color=\"blue\", bins=50, range= (90,120))"
   ]
  },
  {
   "cell_type": "code",
   "execution_count": 87,
   "metadata": {},
   "outputs": [
    {
     "data": {
      "text/plain": [
       "array([[<matplotlib.axes._subplots.AxesSubplot object at 0x7f38e1e60390>]], dtype=object)"
      ]
     },
     "execution_count": 87,
     "metadata": {},
     "output_type": "execute_result"
    },
    {
     "data": {
      "image/png": "[encoded data removed]",
      "text/plain": [
       "<matplotlib.figure.Figure at 0x7f38e1e5fd30>"
      ]
     },
     "metadata": {},
     "output_type": "display_data"
    }
   ],
   "source": [
    "#countries for which the price is very likely to be unaccurate\n",
    "data.hist(column=\"Country\", figsize=(10,10), color=\"blue\")  "
   ]
  },
  {
   "cell_type": "code",
   "execution_count": 96,
   "metadata": {},
   "outputs": [
    {
     "data": {
      "text/plain": [
       "array([[<matplotlib.axes._subplots.AxesSubplot object at 0x7f38e2d60588>]], dtype=object)"
      ]
     },
     "execution_count": 96,
     "metadata": {},
     "output_type": "execute_result"
    },
    {
     "data": {
      "image/png": "[encoded data removed]",
      "text/plain": [
       "<matplotlib.figure.Figure at 0x7f38e2d6ba58>"
      ]
     },
     "metadata": {},
     "output_type": "display_data"
    }
   ],
   "source": [
    "#countris for which the price is very likely to be unaccurate\n",
    "data.hist(column=\"Country\", figsize=(10,10), color=\"blue\", bins=50, range= (102,117))"
   ]
  },
  {
   "cell_type": "code",
   "execution_count": null,
   "metadata": {},
   "outputs": [],
   "source": []
  }
 ],
 "metadata": {
  "kernelspec": {
   "display_name": "Python 3",
   "language": "python",
   "name": "python3"
  },
  "language_info": {
   "codemirror_mode": {
    "name": "ipython",
    "version": 3
   },
   "file_extension": ".py",
   "mimetype": "text/x-python",
   "name": "python",
   "nbconvert_exporter": "python",
   "pygments_lexer": "ipython3",
   "version": "3.6.2"
  }
 },
 "nbformat": 4,
 "nbformat_minor": 2
}
